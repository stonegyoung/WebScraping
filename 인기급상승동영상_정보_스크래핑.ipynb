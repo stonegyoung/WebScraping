{
  "nbformat": 4,
  "nbformat_minor": 0,
  "metadata": {
    "colab": {
      "provenance": [],
      "authorship_tag": "ABX9TyMoMbdaDKLTjc8Ond/bTbzK"
    },
    "kernelspec": {
      "name": "python3",
      "display_name": "Python 3"
    },
    "language_info": {
      "name": "python"
    }
  },
  "cells": [
    {
      "cell_type": "markdown",
      "source": [
        "#**필요 라이브러리 설치**"
      ],
      "metadata": {
        "id": "jWaUqPGvc5Qg"
      }
    },
    {
      "cell_type": "code",
      "source": [
        "!pip install selenium\n",
        "\n",
        "#colab에는 있는 라이브러리\n",
        "#pip install bs4\n",
        "#!pip install pandas\n",
        "#pip install openpyxl"
      ],
      "metadata": {
        "colab": {
          "base_uri": "https://localhost:8080/"
        },
        "id": "i5wlKyaOcHZm",
        "outputId": "0cf027d6-1c5c-4d9f-cfce-d03dded60402"
      },
      "execution_count": 6,
      "outputs": [
        {
          "output_type": "stream",
          "name": "stdout",
          "text": [
            "Requirement already satisfied: selenium in /usr/local/lib/python3.10/dist-packages (4.16.0)\n",
            "Requirement already satisfied: urllib3[socks]<3,>=1.26 in /usr/local/lib/python3.10/dist-packages (from selenium) (2.0.7)\n",
            "Requirement already satisfied: trio~=0.17 in /usr/local/lib/python3.10/dist-packages (from selenium) (0.24.0)\n",
            "Requirement already satisfied: trio-websocket~=0.9 in /usr/local/lib/python3.10/dist-packages (from selenium) (0.11.1)\n",
            "Requirement already satisfied: certifi>=2021.10.8 in /usr/local/lib/python3.10/dist-packages (from selenium) (2023.11.17)\n",
            "Requirement already satisfied: attrs>=20.1.0 in /usr/local/lib/python3.10/dist-packages (from trio~=0.17->selenium) (23.2.0)\n",
            "Requirement already satisfied: sortedcontainers in /usr/local/lib/python3.10/dist-packages (from trio~=0.17->selenium) (2.4.0)\n",
            "Requirement already satisfied: idna in /usr/local/lib/python3.10/dist-packages (from trio~=0.17->selenium) (3.6)\n",
            "Requirement already satisfied: outcome in /usr/local/lib/python3.10/dist-packages (from trio~=0.17->selenium) (1.3.0.post0)\n",
            "Requirement already satisfied: sniffio>=1.3.0 in /usr/local/lib/python3.10/dist-packages (from trio~=0.17->selenium) (1.3.0)\n",
            "Requirement already satisfied: exceptiongroup in /usr/local/lib/python3.10/dist-packages (from trio~=0.17->selenium) (1.2.0)\n",
            "Requirement already satisfied: wsproto>=0.14 in /usr/local/lib/python3.10/dist-packages (from trio-websocket~=0.9->selenium) (1.2.0)\n",
            "Requirement already satisfied: pysocks!=1.5.7,<2.0,>=1.5.6 in /usr/local/lib/python3.10/dist-packages (from urllib3[socks]<3,>=1.26->selenium) (1.7.1)\n",
            "Requirement already satisfied: h11<1,>=0.9.0 in /usr/local/lib/python3.10/dist-packages (from wsproto>=0.14->trio-websocket~=0.9->selenium) (0.14.0)\n"
          ]
        }
      ]
    },
    {
      "cell_type": "markdown",
      "source": [
        "#**필요 라이브러리 임포트**"
      ],
      "metadata": {
        "id": "pJZPyu70cxdV"
      }
    },
    {
      "cell_type": "code",
      "execution_count": 7,
      "metadata": {
        "id": "oVVHVAz7b76t"
      },
      "outputs": [],
      "source": [
        "from selenium import webdriver\n",
        "from bs4 import BeautifulSoup\n",
        "import pandas as pd\n",
        "\n",
        "from openpyxl import Workbook, load_workbook\n",
        "import os\n",
        "import datetime"
      ]
    },
    {
      "cell_type": "markdown",
      "source": [
        "#**엑셀 워크북 생성/불러오기**"
      ],
      "metadata": {
        "id": "IwDbVJ1Fc-_Z"
      }
    },
    {
      "cell_type": "code",
      "source": [
        "if not os.path.isfile(\"유튜브인기급상승동영상.xlsx\"):\n",
        "    #엑셀 워크북 생성\n",
        "    wb = Workbook(write_only=True)\n",
        "    ws = wb.create_sheet('인기급상승동영상')\n",
        "\n",
        "    #날짜, 뉴스 기사 제목, 링크, 본문 내용\n",
        "    ws.append(['시간', '영상 제목', '게시자', '영상 링크'])\n",
        "else:\n",
        "    wb = load_workbook('유튜브인기급상승동영상.xlsx')\n",
        "    ws = wb['인기급상승동영상']"
      ],
      "metadata": {
        "id": "39QI95kIcCNt"
      },
      "execution_count": 8,
      "outputs": []
    },
    {
      "cell_type": "markdown",
      "source": [
        "#**시간 컬럼 문자열 만들기**"
      ],
      "metadata": {
        "id": "66EfFhPaeIjc"
      }
    },
    {
      "cell_type": "code",
      "source": [
        "d = datetime.datetime.now()\n",
        "date = f'{d.year}년 {d.month}월 {d.day}일 {d.hour}시 인기 급상승 동영상'"
      ],
      "metadata": {
        "id": "bDnVWCzueI7S"
      },
      "execution_count": 9,
      "outputs": []
    },
    {
      "cell_type": "markdown",
      "source": [
        "#**크롬 웹 드라이버로 html 소스 받아오기**\n",
        "(코랩에서는 불가능)"
      ],
      "metadata": {
        "id": "JcvMBcgGdfEA"
      }
    },
    {
      "cell_type": "code",
      "source": [
        "driver = webdriver.Chrome('chromedriver.exe 경로')\n",
        "driver.implicitly_wait(3)\n",
        "\n",
        "driver.get(\"https://www.youtube.com/feed/trending?app=desktop&gl=KR&hl=ko\")\n",
        "\n",
        "soup = BeautifulSoup(driver.page_source, 'html.parser')\n",
        "driver.quit()"
      ],
      "metadata": {
        "id": "t0rU9jg8dYl9"
      },
      "execution_count": null,
      "outputs": []
    },
    {
      "cell_type": "markdown",
      "source": [
        "#**태그 추출**"
      ],
      "metadata": {
        "id": "Svn4EBmEdqAq"
      }
    },
    {
      "cell_type": "code",
      "source": [
        "text_tags = soup.select('div#dismissible div.text-wrapper div#meta')"
      ],
      "metadata": {
        "id": "a0tuFKS_duLz"
      },
      "execution_count": 14,
      "outputs": []
    },
    {
      "cell_type": "markdown",
      "source": [
        "#**50만회 이상 인기 급상승 동영상 엑셀에 추가하기(중복방지)**"
      ],
      "metadata": {
        "id": "cJxdI_EgeTE-"
      }
    },
    {
      "cell_type": "code",
      "source": [
        "if not os.path.isfile(\"유튜브인기급상승동영상.xlsx\"):\n",
        "  title_list = []\n",
        "else:\n",
        "  xl = pd.read_excel('유튜브인기급상승동영상.xlsx')\n",
        "  title_list = set(xl[xl['시간'] == date]['영상 제목'])"
      ],
      "metadata": {
        "id": "KGhYPRy9eTmD"
      },
      "execution_count": 15,
      "outputs": []
    },
    {
      "cell_type": "code",
      "source": [
        "cnt = 0\n",
        "for txt in text_tags:\n",
        "\n",
        "    #조회수\n",
        "    views = txt.select_one('div#metadata-line span').get_text()\n",
        "    views = views.split()[1]\n",
        "    views = views.replace('만회', '0000')\n",
        "    views = views.replace('억회', '00000000')\n",
        "    if int(views) >= 500000:\n",
        "        a_tag = txt.select_one('div#title-wrapper h3 a')\n",
        "\n",
        "        #제목\n",
        "        title = a_tag['title']\n",
        "        #같은 날짜, 시간대에 동일한 이름이 있다면 업데이트 하지 않는다\n",
        "        if title in title_list:\n",
        "            pass\n",
        "        else:\n",
        "            #게시자\n",
        "            poster = txt.select_one('div#metadata yt-formatted-string#text')['title']\n",
        "            #링크\n",
        "            link = 'https://www.youtube.com' + a_tag['href']\n",
        "\n",
        "            print(title)\n",
        "            ws.append([date, title, poster, link])\n",
        "            cnt +=1"
      ],
      "metadata": {
        "id": "IMExiC3MeYut",
        "colab": {
          "base_uri": "https://localhost:8080/"
        },
        "outputId": "034dfde6-8b55-4424-c4af-7dba90567f16"
      },
      "execution_count": 16,
      "outputs": [
        {
          "output_type": "stream",
          "name": "stdout",
          "text": [
            "그놈이 왔다\n",
            "[2023 AFC 카타르 아시안컵] 2023 AFC 카타르 아시안컵 베트남 vs 인도네시아 풀 하이라이트\n",
            "체리를 처음으로 미국 어린이집에 보내봤어요. 그런데 펑펑 우는 체리…\n",
            "새로운 삼성 갤럭시 S24/S24+/S24 울트라 첫 인상! 아이폰같은데 예뻐졌습니다.\n",
            "놀뭐 회식에서 뭐하니... (Feat. 놀면 뭐하니)\n",
            "[EN] 240118 mini핑계고 : 유재석, 조정석, 조세호 @뜬뜬편집실 (OneCam) ㅣ EP.9\n",
            "(SUB)[전지적 할부지 시점] ep.171 집들이 1호 손님이 된 강바오! 할부지를 울고 웃게 한 감동의 바오하우스🐼│Panda World\n",
            "[2023 AFC 아시안컵 카타르] 오늘의 아시안컵 7회\n",
            "한류스타와 일본에 가다 - 일본(1)\n",
            "[sub]대체 왜 이렇게 루머가 많은 거야 현정아ㅠㅠㅠ❤️\n",
            "💀 한국인🇰🇷들이 해외여행 편하게 가는 이유 / 💀 대한민국 여권의 위엄 ㄷㄷ\n",
            "볼 사람 띱\n",
            "[#유퀴즈온더블럭] 윤상에게 아이돌 하고 싶다고 말한 아들(현 라이즈 앤톤)🔥 10년 동안 수영 하던 아들이 S★ 오디션을 봤다?!\n",
            "IVE 아이브 'All Night (Feat. Saweetie)' Official Music Video\n",
            "[5-6화 요약] 쓰레기 갑질 상사 나락 보낸 박민영 참교육💯 조력자 나인우의 진짜 정체를 눈치 채다..?!  #내남편과결혼해줘\n",
            "[2023 AFC 카타르 아시안컵] 2023 AFC 카타르 아시안컵 레바논 vs 중국 풀 하이라이트\n",
            "역대급 레전드 무대🎤 즉석에서 말아보는 웅 맘대로 편곡 노래방ㅋㅋ feat.고통받는 밴드팀 | IM HERO TOUR 2023 @대전\n",
            "장롱면허\n",
            "미국인 아빠와 영어를 거부하는 체리, 이유를 알고 말문이 막혔어요\n",
            "퇴근 후 혼밥러 - 굽네 맵단짠 칩킨 편\n",
            "[2023 AFC 아시안컵 카타르] 오늘의 아시안컵 6회\n",
            "침착맨의 새로운 생방송 플랫폼 발표\n",
            "[백종원의 님아 그 시장을 가오_EP.38_청주] 하루에 4접시만 팝니다\n",
            "근데 강형욱앞에선 얌전함 | 견종백과 이탈리안 그레이하운드편\n",
            "skibidi toilet 70 (part 1)\n",
            "[EN] 240118 mini핑계고 : 유재석, 조정석, 조세호 @뜬뜬편집실 (OneCam) ㅣ EP.9\n",
            "놀뭐 회식에서 뭐하니... (Feat. 놀면 뭐하니)\n",
            "민혁씨의 첫사랑은 고3 시절 담임선생님이었다 그리고 그 민혁 씨와 선생님은 어느덧 부부 6년차가 되었다 [#인간극장] KBS 240115 방송\n",
            "근데 강형욱앞에선 얌전함 | 견종백과 이탈리안 그레이하운드편\n",
            "[잇츠뉴] 서정희♥연하 남자친구, 깔끔 끝판왕 뉴 하우스까지 최초 공개! ｜#잇츠뉴\n",
            "미국인 아빠와 영어를 거부하는 체리, 이유를 알고 말문이 막혔어요\n",
            "역대급 레전드 무대🎤 즉석에서 말아보는 웅 맘대로 편곡 노래방ㅋㅋ feat.고통받는 밴드팀 | IM HERO TOUR 2023 @대전\n",
            "그놈이 왔다\n",
            "장롱면허\n",
            "올해 미우새에 겹경사가?!💥 웃음🥰부터 눈물😢까지 나오는 2024년 신년 운세! [미운 우리 새끼|240114 SBS방송]\n",
            "[EN] 싸가비 집 옷 청소 | 청소광브라이언 12화\n",
            "[sub] 서준이가갑자기데려온친구랑급나불 | 👅나영석의 나불나불\n",
            "[2023 AFC 카타르 아시안컵] 2023 AFC 카타르 아시안컵 레바논 vs 중국 풀 하이라이트\n",
            "퇴근 후 혼밥러 - 굽네 맵단짠 칩킨 편\n",
            "체리를 처음으로 미국 어린이집에 보내봤어요. 그런데 펑펑 우는 체리…\n",
            "[2023 AFC 카타르 아시안컵] 2023 AFC 카타르 아시안컵 베트남 vs 인도네시아 풀 하이라이트\n",
            "Still Here | 2024 시즌 시네마틱 - 리그 오브 레전드\n",
            "린 - 삼백 리 한려수도｜현역가왕 8회\n",
            "NMIXX “DASH” M/V\n",
            "[sub] 성시경의 만날텐데 l 규현🩵 조정뱅이가 작정하고 놀러왔네요..😅\n",
            "볼 사람 띱\n",
            "💀 한국인🇰🇷들이 해외여행 편하게 가는 이유 / 💀 대한민국 여권의 위엄 ㄷㄷ\n",
            "침착맨의 새로운 생방송 플랫폼 발표\n",
            "[#유퀴즈온더블럭] 윤상에게 아이돌 하고 싶다고 말한 아들(현 라이즈 앤톤)🔥 10년 동안 수영 하던 아들이 S★ 오디션을 봤다?!\n",
            "Stay (Prod. An Shinae & Philtre) (머물러주오 (Prod. 안신애 & Philtre))\n",
            "(SUB)[전지적 할부지 시점] ep.171 집들이 1호 손님이 된 강바오! 할부지를 울고 웃게 한 감동의 바오하우스🐼│Panda World\n",
            "김다현 - 세월 베고 길게 누운 구름 한 조각｜현역가왕 7회 MBN 240109 방송\n",
            "50만달러를 지키고, 가지세요!\n",
            "skibidi toilet 70 (part 1)\n",
            "[2023 AFC 아시안컵 카타르] 오늘의 아시안컵 7회\n",
            "일본 젊은 여성들이 한국에 열광하는 이유 [일본 번외편]\n",
            "올해 가장 잘 만든 개웃긴 공포게임 ㅋㅋㅋㅋ\n",
            "택배 찾으러 왔어요\n"
          ]
        }
      ]
    },
    {
      "cell_type": "markdown",
      "source": [
        "#**엑셀 저장 및 결과 출력**"
      ],
      "metadata": {
        "id": "vQz5FV_1dvbA"
      }
    },
    {
      "cell_type": "code",
      "source": [
        "wb.save(\"유튜브인기급상승동영상.xlsx\")\n",
        "print(f\"{d.year}년 {d.month}월 {d.day}일 {d.hour}시 {d.minute}분 인기 급상승 동영상 {len(text_tags)}개 중 {cnt}개가 저장되었습니다.\")"
      ],
      "metadata": {
        "id": "jj2osPc1d0Ab",
        "colab": {
          "base_uri": "https://localhost:8080/"
        },
        "outputId": "c77006ff-3976-44b8-b4e7-73c8fdaff361"
      },
      "execution_count": 17,
      "outputs": [
        {
          "output_type": "stream",
          "name": "stdout",
          "text": [
            "2024년 1월 22일 6시 30분 인기 급상승 동영상 96개 중 58개가 저장되었습니다.\n"
          ]
        }
      ]
    }
  ]
}